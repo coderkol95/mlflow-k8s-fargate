{
 "cells": [
  {
   "cell_type": "code",
   "execution_count": 1,
   "metadata": {},
   "outputs": [
    {
     "name": "stderr",
     "output_type": "stream",
     "text": [
      "/opt/homebrew/Caskroom/miniforge/base/envs/mlflow_k8s/lib/python3.8/site-packages/tqdm/auto.py:21: TqdmWarning: IProgress not found. Please update jupyter and ipywidgets. See https://ipywidgets.readthedocs.io/en/stable/user_install.html\n",
      "  from .autonotebook import tqdm as notebook_tqdm\n"
     ]
    }
   ],
   "source": [
    "import mlflow\n",
    "import optuna\n",
    "import lightning.pytorch as pl\n",
    "import json\n",
    "from src.datawork import data_module\n",
    "from src.neural_network import NN\n",
    "from lightning.pytorch.callbacks import Callback\n",
    "from lightning.pytorch.loggers import MLFlowLogger\n",
    "\n",
    "# override Optuna's default logging to ERROR only\n",
    "optuna.logging.set_verbosity(optuna.logging.ERROR)\n",
    "\n",
    "with open(\"config.json\",\"r\") as f:\n",
    "    configs=json.load(f)\n",
    "\n",
    "RANDOM_SEED:int=configs[\"RANDOM STATE\"]\n",
    "EPOCHS:int=configs[\"EPOCHS\"]\n",
    "TRIALS:int=configs[\"TRIALS\"]\n",
    "EXPERIMENT_NAME=\"Dummy\""
   ]
  },
  {
   "cell_type": "code",
   "execution_count": 2,
   "metadata": {},
   "outputs": [],
   "source": [
    "# class log_losses(Callback):\n",
    "\n",
    "#     def on_train_epoch_end(self, trainer, pl_module):\n",
    "#         mlflow.log_metric('train_loss_epochs', trainer.logged_metrics['train_loss'])\n",
    "#     def on_validation_epoch_end(self, trainer, pl_module):\n",
    "#         mlflow.log_metric('val_loss_epochs', trainer.logged_metrics['val_loss'])"
   ]
  },
  {
   "cell_type": "code",
   "execution_count": 3,
   "metadata": {},
   "outputs": [],
   "source": [
    "# data=data_module(batch_size=4,seed=RANDOM_SEED)\n",
    "# model = NN(0.2, [10,10],0.001)\n",
    "\n",
    "# trainer = pl.Trainer(\n",
    "#         logger=True,\n",
    "#         deterministic=True,\n",
    "#         # limit_val_batches=PERCENT_VALID_EXAMPLES,\n",
    "#         enable_checkpointing=False,\n",
    "#         max_epochs=EPOCHS,\n",
    "#         callbacks=[log_losses()],\n",
    "#         default_root_dir=\"./\"\n",
    "#     )\n",
    "# trainer.fit(model=model,datamodule=data)"
   ]
  },
  {
   "cell_type": "code",
   "execution_count": 4,
   "metadata": {},
   "outputs": [],
   "source": [
    "def objective(trial):\n",
    "\n",
    "    with mlflow.start_run(nested=True):\n",
    "\n",
    "        # We optimize the number of layers, hidden units in each layer, dropout and the learning rate.\n",
    "        n_layers = trial.suggest_int(\"n_layers\", 1, 3)\n",
    "        dropout = trial.suggest_float(\"dropout\", 0.2, 0.5)\n",
    "        lr = trial.suggest_float(\"learning_rate\",1e-5,1e-1)\n",
    "\n",
    "        output_dims = [\n",
    "            trial.suggest_int(f\"n_units_l{i}\", 4, 128, log=True) for i in range(n_layers)\n",
    "        ]\n",
    "\n",
    "        # od=\"_\".join(str(x) for x in output_dims)\n",
    "        # version = f\"version_{round(dropout,2)}_{round(lr,2)}_{od}\"\n",
    "\n",
    "        pl.seed_everything(RANDOM_SEED, workers=True) # Setting seed for execution\n",
    "        data=data_module(batch_size=4,seed=RANDOM_SEED)\n",
    "        model = NN(dropout, output_dims,lr)\n",
    "\n",
    "        mlf_logger = MLFlowLogger(experiment_name=EXPERIMENT_NAME) #, tracking_uri=\"file:./ml-runs\")\n",
    "\n",
    "        trainer = pl.Trainer(\n",
    "            logger=mlf_logger,\n",
    "            deterministic=True,\n",
    "            # limit_val_batches=PERCENT_VALID_EXAMPLES,\n",
    "            enable_checkpointing=False,\n",
    "            max_epochs=EPOCHS,\n",
    "            # callbacks=[log_losses()],\n",
    "            default_root_dir=\"./\"\n",
    "        )\n",
    "        hyperparameters = dict(n_layers=n_layers, dropout=dropout, output_dims=output_dims, lr=lr)\n",
    "        trainer.fit(model,data)\n",
    "        error = trainer.callback_metrics[\"val_loss\"].item()\n",
    "        # Log to MLflow\n",
    "        mlflow.log_metric(\"mse\", error)\n",
    "        mlflow.log_params(hyperparameters)\n",
    "\n",
    "    return error"
   ]
  },
  {
   "cell_type": "code",
   "execution_count": 5,
   "metadata": {},
   "outputs": [
    {
     "data": {
      "text/plain": [
       "<Experiment: artifact_location='file:///Users/anupam/Documents/Codebase/Studies/mlFlow-k8s-Fargate/mlruns/875955364372229516', creation_time=1705566621555, experiment_id='875955364372229516', last_update_time=1705566621555, lifecycle_stage='active', name='Dummy', tags={}>"
      ]
     },
     "execution_count": 5,
     "metadata": {},
     "output_type": "execute_result"
    }
   ],
   "source": [
    "def get_or_create_experiment(experiment_name:str):\n",
    "\n",
    "    if experiment := mlflow.get_experiment_by_name(experiment_name):\n",
    "        return experiment.experiment_id\n",
    "    else:\n",
    "        return mlflow.create_experiment(experiment_name)\n",
    "\n",
    "experiment_id = get_or_create_experiment(EXPERIMENT_NAME)\n",
    "experiment_id\n",
    "\n",
    "# Set the current active MLflow experiment\n",
    "mlflow.set_experiment(experiment_id=experiment_id)"
   ]
  },
  {
   "cell_type": "code",
   "execution_count": 6,
   "metadata": {},
   "outputs": [
    {
     "name": "stderr",
     "output_type": "stream",
     "text": [
      "Seed set to 42\n",
      "GPU available: True (mps), used: True\n",
      "TPU available: False, using: 0 TPU cores\n",
      "IPU available: False, using: 0 IPUs\n",
      "HPU available: False, using: 0 HPUs\n",
      "\n",
      "  | Name   | Type       | Params\n",
      "--------------------------------------\n",
      "0 | layers | Sequential | 337   \n",
      "--------------------------------------\n",
      "337       Trainable params\n",
      "0         Non-trainable params\n",
      "337       Total params\n",
      "0.001     Total estimated model params size (MB)\n"
     ]
    },
    {
     "name": "stdout",
     "output_type": "stream",
     "text": [
      "data/X.csv\n",
      "Sanity Checking: |          | 0/? [00:00<?, ?it/s]"
     ]
    },
    {
     "name": "stderr",
     "output_type": "stream",
     "text": [
      "/opt/homebrew/Caskroom/miniforge/base/envs/mlflow_k8s/lib/python3.8/site-packages/lightning/pytorch/trainer/connectors/data_connector.py:436: Consider setting `persistent_workers=True` in 'val_dataloader' to speed up the dataloader worker initialization.\n"
     ]
    },
    {
     "name": "stdout",
     "output_type": "stream",
     "text": [
      "                                                                           \r"
     ]
    },
    {
     "name": "stderr",
     "output_type": "stream",
     "text": [
      "/Users/anupam/Documents/Codebase/Studies/mlFlow-k8s-Fargate/src/neural_network.py:55: UserWarning: Using a target size (torch.Size([4])) that is different to the input size (torch.Size([4, 1])). This will likely lead to incorrect results due to broadcasting. Please ensure they have the same size.\n",
      "  loss = self.loss(preds, y)\n",
      "/opt/homebrew/Caskroom/miniforge/base/envs/mlflow_k8s/lib/python3.8/site-packages/lightning/pytorch/trainer/connectors/data_connector.py:436: Consider setting `persistent_workers=True` in 'train_dataloader' to speed up the dataloader worker initialization.\n",
      "/opt/homebrew/Caskroom/miniforge/base/envs/mlflow_k8s/lib/python3.8/site-packages/lightning/pytorch/loops/fit_loop.py:293: The number of training batches (20) is smaller than the logging interval Trainer(log_every_n_steps=50). Set a lower value for log_every_n_steps if you want to see logs for the training epoch.\n"
     ]
    },
    {
     "name": "stdout",
     "output_type": "stream",
     "text": [
      "Epoch 1:   0%|          | 0/20 [00:00<?, ?it/s, v_num=0e32]         "
     ]
    },
    {
     "name": "stderr",
     "output_type": "stream",
     "text": [
      "/Users/anupam/Documents/Codebase/Studies/mlFlow-k8s-Fargate/src/neural_network.py:55: UserWarning: Using a target size (torch.Size([2])) that is different to the input size (torch.Size([2, 1])). This will likely lead to incorrect results due to broadcasting. Please ensure they have the same size.\n",
      "  loss = self.loss(preds, y)\n"
     ]
    },
    {
     "name": "stdout",
     "output_type": "stream",
     "text": [
      "Epoch 2: 100%|██████████| 20/20 [00:07<00:00,  2.82it/s, v_num=0e32]"
     ]
    },
    {
     "name": "stderr",
     "output_type": "stream",
     "text": [
      "`Trainer.fit` stopped: `max_epochs=3` reached.\n"
     ]
    },
    {
     "name": "stdout",
     "output_type": "stream",
     "text": [
      "Epoch 2: 100%|██████████| 20/20 [00:07<00:00,  2.82it/s, v_num=0e32]\n"
     ]
    },
    {
     "name": "stderr",
     "output_type": "stream",
     "text": [
      "Seed set to 42\n",
      "GPU available: True (mps), used: True\n",
      "TPU available: False, using: 0 TPU cores\n",
      "IPU available: False, using: 0 IPUs\n",
      "HPU available: False, using: 0 HPUs\n",
      "\n",
      "  | Name   | Type       | Params\n",
      "--------------------------------------\n",
      "0 | layers | Sequential | 199   \n",
      "--------------------------------------\n",
      "199       Trainable params\n",
      "0         Non-trainable params\n",
      "199       Total params\n",
      "0.001     Total estimated model params size (MB)\n"
     ]
    },
    {
     "name": "stdout",
     "output_type": "stream",
     "text": [
      "data/X.csv\n",
      "Epoch 2: 100%|██████████| 20/20 [00:03<00:00,  5.21it/s, v_num=6136]       "
     ]
    }
   ],
   "source": [
    "with mlflow.start_run(experiment_id=experiment_id, run_name=\"Dummyrun\", nested=True):\n",
    "    # Initialize the Optuna study\n",
    "    study = optuna.create_study(direction=\"minimize\")\n",
    "\n",
    "    # Execute the hyperparameter optimization trials.\n",
    "    # Note the addition of the `champion_callback` inclusion to control our logging\n",
    "    study.optimize(objective, n_trials=TRIALS) #, callbacks=[champion_callback])\n",
    "\n",
    "    mlflow.log_params(study.best_params)\n",
    "    mlflow.log_metric(\"best_mse\", study.best_value)\n",
    "\n",
    "    # Log tags\n",
    "    mlflow.set_tags(\n",
    "        tags={\n",
    "            \"project\": \"Apple Demand Project\",\n",
    "            \"optimizer_engine\": \"optuna\",\n",
    "            \"model_family\": \"pytorch lightning\",\n",
    "            \"feature_set_version\": 1,\n",
    "        }\n",
    "    )\n",
    "\n",
    "    # Log a fit model instance\n",
    "    model = NN(study.best_params)\n",
    "    artifact_path = \"model\"\n",
    "\n",
    "    d=data_module(batch_size=4,seed=42)\n",
    "    d.setup()\n",
    "    inp_example=next(iter(d.train_dataset))[0]\n",
    "\n",
    "    mlflow.pytorch.log_model(\n",
    "        # xgb_model=model,\n",
    "        artifact_path=artifact_path,\n",
    "        input_example=inp_example,\n",
    "        model_format=\"pt\",\n",
    "        metadata={\"model_data_version\": 1},\n",
    "    )\n",
    "\n",
    "    # Get the logged model uri so that we can load it from the artifact store\n",
    "    model_uri = mlflow.get_artifact_uri(artifact_path)"
   ]
  },
  {
   "cell_type": "code",
   "execution_count": null,
   "metadata": {},
   "outputs": [],
   "source": []
  },
  {
   "cell_type": "code",
   "execution_count": null,
   "metadata": {},
   "outputs": [],
   "source": []
  }
 ],
 "metadata": {
  "kernelspec": {
   "display_name": "mlflow_k8s",
   "language": "python",
   "name": "python3"
  },
  "language_info": {
   "codemirror_mode": {
    "name": "ipython",
    "version": 3
   },
   "file_extension": ".py",
   "mimetype": "text/x-python",
   "name": "python",
   "nbconvert_exporter": "python",
   "pygments_lexer": "ipython3",
   "version": "3.8.18"
  }
 },
 "nbformat": 4,
 "nbformat_minor": 2
}
