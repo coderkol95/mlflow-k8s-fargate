{
 "cells": [
  {
   "cell_type": "code",
   "execution_count": null,
   "metadata": {},
   "outputs": [],
   "source": [
    "import mlflow\n",
    "import optuna\n",
    "import lightning.pytorch as pl\n",
    "import json\n",
    "from src.datawork import data_module\n",
    "from src.neural_network import NN\n",
    "from lightning.pytorch.callbacks import Callback\n",
    "from lightning.pytorch.loggers import MLFlowLogger\n",
    "\n",
    "# override Optuna's default logging to ERROR only\n",
    "optuna.logging.set_verbosity(optuna.logging.ERROR)\n",
    "\n",
    "with open(\"config.json\",\"r\") as f:\n",
    "    configs=json.load(f)\n",
    "\n",
    "RANDOM_SEED:int=configs[\"RANDOM STATE\"]\n",
    "EPOCHS:int=configs[\"EPOCHS\"]\n",
    "TRIALS:int=configs[\"TRIALS\"]\n",
    "EXPERIMENT_NAME=\"Nested false\""
   ]
  },
  {
   "cell_type": "code",
   "execution_count": null,
   "metadata": {},
   "outputs": [],
   "source": [
    "def objective(trial):\n",
    "\n",
    "    with mlflow.start_run(nested=True):\n",
    "\n",
    "        # We optimize the number of layers, hidden units in each layer, dropout and the learning rate.\n",
    "        n_layers = trial.suggest_int(\"n_layers\", 1, 3)\n",
    "        dropout = trial.suggest_float(\"dropout\", 0.2, 0.5)\n",
    "        learning_rate = trial.suggest_float(\"learning_rate\",1e-5,1e-1)\n",
    "\n",
    "        output_dims = [\n",
    "            trial.suggest_int(f\"n_units_l{i}\", 4, 128, log=True) for i in range(n_layers)\n",
    "        ]\n",
    "\n",
    "        # od=\"_\".join(str(x) for x in output_dims)\n",
    "        # version = f\"version_{round(dropout,2)}_{round(lr,2)}_{od}\"\n",
    "\n",
    "        pl.seed_everything(RANDOM_SEED, workers=True) # Setting seed for execution\n",
    "        data=data_module(batch_size=4,seed=RANDOM_SEED)\n",
    "        model = NN(dropout, output_dims,learning_rate)\n",
    "\n",
    "        mlf_logger = MLFlowLogger(experiment_name=EXPERIMENT_NAME) #, tracking_uri=\"file:./ml-runs\")\n",
    "\n",
    "        trainer = pl.Trainer(\n",
    "            logger=mlf_logger,\n",
    "            deterministic=True,\n",
    "            enable_checkpointing=False,\n",
    "            max_epochs=EPOCHS,\n",
    "            default_root_dir=\"./\"\n",
    "        )\n",
    "        hyperparameters = dict(n_layers=n_layers, dropout=dropout, output_dims=output_dims, lr=lr)\n",
    "        trainer.fit(model,data)\n",
    "        error = trainer.callback_metrics[\"val_loss\"].item()\n",
    "\n",
    "    return error"
   ]
  },
  {
   "cell_type": "code",
   "execution_count": null,
   "metadata": {},
   "outputs": [],
   "source": [
    "def get_or_create_experiment(experiment_name:str):\n",
    "\n",
    "    if experiment := mlflow.get_experiment_by_name(experiment_name):\n",
    "        return experiment.experiment_id\n",
    "    else:\n",
    "        return mlflow.create_experiment(experiment_name)\n",
    "\n",
    "experiment_id = get_or_create_experiment(EXPERIMENT_NAME)\n",
    "experiment_id\n",
    "\n",
    "# Set the current active MLflow experiment\n",
    "mlflow.set_experiment(experiment_id=experiment_id)"
   ]
  },
  {
   "cell_type": "code",
   "execution_count": null,
   "metadata": {},
   "outputs": [],
   "source": [
    "with mlflow.start_run(experiment_id=experiment_id, run_name=\"Experiment run\", nested=False):\n",
    "    # Initialize the Optuna study\n",
    "    study = optuna.create_study(direction=\"minimize\")\n",
    "    study.optimize(objective, n_trials=TRIALS) #, callbacks=[champion_callback])"
   ]
  },
  {
   "cell_type": "code",
   "execution_count": null,
   "metadata": {},
   "outputs": [],
   "source": [
    "with mlflow.start_run(experiment_id=experiment_id, run_name=\"Experiment run\", nested=True):\n",
    "    # Initialize the Optuna study\n",
    "    study = optuna.create_study(direction=\"minimize\")\n",
    "    study.optimize(objective, n_trials=TRIALS) #, callbacks=[champion_callback])\n",
    "\n",
    "    # mlflow.log_params(study.best_params)\n",
    "    # mlflow.log_metric(\"Lowest val loss\", study.best_value)\n",
    "\n",
    "    # Log tags\n",
    "    # mlflow.set_tags(\n",
    "    #     tags={\n",
    "    #         \"project\": \"Apple Demand Project\",\n",
    "    #         \"optimizer_engine\": \"optuna\",\n",
    "    #         \"model_family\": \"pytorch lightning\",\n",
    "    #         \"feature_set_version\": 1,\n",
    "    #     }\n",
    "    # )\n",
    "\n",
    "    # Log a fit model instance\n",
    "    # model = NN(**study.best_params)\n",
    "    # artifact_path = \"model\"\n",
    "\n",
    "    # d=data_module(batch_size=4,seed=42)\n",
    "    # d.setup()\n",
    "    # inp_example=next(iter(d.train_dataset))[0]\n",
    "\n",
    "    # mlflow.pytorch.log_model(\n",
    "    #     # xgb_model=model,\n",
    "    #     artifact_path=artifact_path,\n",
    "    #     input_example=inp_example,\n",
    "    #     model_format=\"pt\",\n",
    "    #     metadata={\"model_data_version\": 1},\n",
    "    # )\n",
    "\n",
    "    # Get the logged model uri so that we can load it from the artifact store\n",
    "    # model_uri = mlflow.get_artifact_uri(artifact_path)"
   ]
  },
  {
   "cell_type": "code",
   "execution_count": null,
   "metadata": {},
   "outputs": [],
   "source": []
  }
 ],
 "metadata": {
  "kernelspec": {
   "display_name": "mlflow_k8s",
   "language": "python",
   "name": "python3"
  },
  "language_info": {
   "codemirror_mode": {
    "name": "ipython",
    "version": 3
   },
   "file_extension": ".py",
   "mimetype": "text/x-python",
   "name": "python",
   "nbconvert_exporter": "python",
   "pygments_lexer": "ipython3",
   "version": "3.8.18"
  }
 },
 "nbformat": 4,
 "nbformat_minor": 2
}
